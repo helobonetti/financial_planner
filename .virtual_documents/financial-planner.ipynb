


# Initial imports
import os
import requests
import pandas as pd
from dotenv import load_dotenv
import alpaca_trade_api as tradeapi
from MCForecastTools import MCSimulation

%matplotlib inline


# Load .env enviroment variables
load_dotenv("api.env")








# Set current amount of crypto assets

monthly_income = 12000
my_btc = 1.2
my_eth = 5.3


# Crypto API URLs
btc_url = "https://api.alternative.me/v2/ticker/Bitcoin/?convert=USD"
eth_url = "https://api.alternative.me/v2/ticker/Ethereum/?convert=USD"



# Fetch current BTC price
btc_response = requests.get(btc_url)
btc_data = btc_response.json()
btc_price = btc_data["data"]["1"]["quotes"]["USD"]["price"]

# Fetch current ETH price
eth_response = requests.get(eth_url)
eth_data = eth_response.json()
eth_price = eth_data["data"]["1027"]["quotes"]["USD"]["price"]

# Calculate the total value of your Bitcoin and Ethereum holdings
my_btc_value = my_btc * float(btc_price)
my_eth_value = my_eth * float(eth_price)

# Print current crypto wallet balance
print(f"The current value of your {my_btc} BTC is ${my_btc_value:0.2f}")
print(f"The current value of your {my_eth} ETH is ${my_eth_value:0.2f}")





# Set current amount of shares
my_agg = 200
my_spy = 50


# Set Alpaca API key and secret
alpaca_api_key = os.getenv("ALPACA_API_KEY")
alpaca_secret_key = os.getenv("ALPACA_SECRET_KEY")

# Create the Alpaca API object
api = tradeapi.REST(
    alpaca_api_key,
    alpaca_secret_key,
    api_version = "v2"
)


# Format current date as ISO format
# YOUR CODE HERE!

start_date = pd.Timestamp("2022-01-17", tz="America/New_York").isoformat()
end_date = pd.Timestamp("2024-01-17", tz="America/New_York").isoformat()

# Set the tickers
tickers = ["AGG", "SPY"]

# Set timeframe to "1Day" for Alpaca API
timeframe = "1Day"

# Get current closing prices for SPY and AGG
# YOUR CODE HERE!
df_ticker = api.get_bars(
    tickers,
    timeframe,
    start=start_date,
    end=end_date
).df
df_ticker.head()

# Reorganize the DataFrame
# Separate ticker data
# Drop the time component of the date
df_ticker.index = df_ticker.index.date
AGG = df_ticker[df_ticker["symbol"]=="AGG"].drop("symbol", axis=1)
SPY = df_ticker[df_ticker["symbol"]=="SPY"].drop("symbol", axis=1)


# Concatenate the ticker DataFrames
df_ticker = pd.concat([AGG, SPY], axis=1, keys=["AGG","SPY"])



# Preview DataFrame
# YOUR CODE HERE!
df_ticker.head()



# Pick AGG and SPY close prices

agg_close_price = df_ticker.loc[:, ("AGG", "close")]
spy_close_price = df_ticker.loc[:, ("SPY", "close")]


# Print AGG and SPY close prices
#print(f"Current AGG closing price: ${agg_close_price}")
#print(f"Current SPY closing price: ${spy_close_price}")

print(f"Current AGG closing price: ${agg_close_price.iloc[-1]}")
print(f"Current SPY closing price: ${spy_close_price.iloc[-1]}")


# Compute the current value of shares
# YOUR CODE HERE!
my_agg_value = my_agg * agg_close_price.iloc[-1]
my_spy_value = my_spy * spy_close_price.iloc[-1]

# Print current value of shares
print(f"The current value of your {my_spy} SPY shares is ${my_spy_value:0.2f}")
print(f"The current value of your {my_agg} AGG shares is ${my_agg_value:0.2f}")


# Set monthly household income
monthly_income = 12000

# Consolidate financial assets data

crypto_value = df_assets.loc[df_assets['Asset'].isin(['BTC', 'ETH']), 'Current Value'].sum()
shares_value = df_assets.loc[df_assets['Asset'].isin(['SPY', 'AGG']), 'Current Value'].sum()

# Create savings DataFrame
df_savings = pd.DataFrame({'amount': [crypto_value, shares_value]}, index=['crypto', 'shares'])

# Display savings DataFrame
display(df_savings)


# Plot savings pie chart
df_savings.plot.pie(y='amount', legend=False, autopct='%1.1f%%')



# Set ideal emergency fund
emergency_fund = monthly_income * 3
emergency_fund
print(f"My ideal emergency fund is ${emergency_fund}")

# Calculate total amount of savings
current_savings = crypto_value + shares_value
current_savings
print(f"My current savings is ${current_savings}")

total_savings = current_savings + emergency_fund
print(f"The total amount of savings is ${total_savings}")

# Validate saving health
# YOUR CODE HERE!





# Set start and end dates of five years back from today.
# Sample results may vary from the solution based on the time frame chosen
start_date = pd.Timestamp('2016-05-01', tz='America/New_York').isoformat()
end_date = pd.Timestamp('2021-05-01', tz='America/New_York').isoformat()


# Get 5 years' worth of historical data for SPY and AGG
# YOUR CODE HERE!

# Reorganize the DataFrame
# Separate ticker data
# YOUR CODE HERE!


# Concatenate the ticker DataFrames
# YOUR CODE HERE!

# Display sample data
df_stock_data.head()


# Configuring a Monte Carlo simulation to forecast 30 years cumulative returns
# YOUR CODE HERE!


# Printing the simulation input data
# YOUR CODE HERE!


# Running a Monte Carlo simulation to forecast 30 years cumulative returns
# YOUR CODE HERE!


# Plot simulation outcomes
# YOUR CODE HERE!


# Plot probability distribution and confidence intervals
# YOUR CODE HERE!





# Fetch summary statistics from the Monte Carlo simulation results
# YOUR CODE HERE!

# Print summary statistics
# YOUR CODE HERE!





# Set initial investment
initial_investment = 20000

# Use the lower and upper `95%` confidence intervals to calculate the range of the possible outcomes of our $20,000
# YOUR CODE HERE!

# Print results
print(f"There is a 95% chance that an initial investment of ${initial_investment} in the portfolio"
      f" over the next 30 years will end within in the range of"
      f" ${ci_lower} and ${ci_upper}")





# Set initial investment
initial_investment = 20000 * 1.5

# Use the lower and upper `95%` confidence intervals to calculate the range of the possible outcomes of our $30,000
# YOUR CODE HERE!

# Print results
print(f"There is a 95% chance that an initial investment of ${initial_investment} in the portfolio"
      f" over the next 30 years will end within in the range of"
      f" ${ci_lower} and ${ci_upper}")





# Configuring a Monte Carlo simulation to forecast 5 years cumulative returns
# YOUR CODE HERE!


# Running a Monte Carlo simulation to forecast 5 years cumulative returns
# YOUR CODE HERE!


# Plot simulation outcomes
# YOUR CODE HERE!


# Plot probability distribution and confidence intervals
# YOUR CODE HERE!


# Fetch summary statistics from the Monte Carlo simulation results
# YOUR CODE HERE!

# Print summary statistics
# YOUR CODE HERE!


# Set initial investment
# YOUR CODE HERE!

# Use the lower and upper `95%` confidence intervals to calculate the range of the possible outcomes of our $60,000
# YOUR CODE HERE!

# Print results
print(f"There is a 95% chance that an initial investment of ${initial_investment} in the portfolio"
      f" over the next 5 years will end within in the range of"
      f" ${ci_lower_five} and ${ci_upper_five}")





# Configuring a Monte Carlo simulation to forecast 10 years cumulative returns
# YOUR CODE HERE!


# Running a Monte Carlo simulation to forecast 10 years cumulative returns
# YOUR CODE HERE!


# Plot simulation outcomes
# YOUR CODE HERE!


# Plot probability distribution and confidence intervals
# YOUR CODE HERE!


# Fetch summary statistics from the Monte Carlo simulation results
# YOUR CODE HERE!

# Print summary statistics
# YOUR CODE HERE!


# Set initial investment
# YOUR CODE HERE!

# Use the lower and upper `95%` confidence intervals to calculate the range of the possible outcomes of our $60,000
# YOUR CODE HERE!

# Print results
print(f"There is a 95% chance that an initial investment of ${initial_investment} in the portfolio"
      f" over the next 10 years will end within in the range of"
      f" ${ci_lower_ten} and ${ci_upper_ten}")












